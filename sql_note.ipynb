{
 "cells": [
  {
   "cell_type": "code",
   "execution_count": 1,
   "metadata": {},
   "outputs": [],
   "source": [
    "import sqlite3"
   ]
  },
  {
   "cell_type": "markdown",
   "metadata": {},
   "source": [
    "# 定義table名稱、table欄位有哪些，與欄位型態設定"
   ]
  },
  {
   "cell_type": "code",
   "execution_count": 2,
   "metadata": {},
   "outputs": [],
   "source": [
    "conn = sqlite3.connect(\"D:/SQLite/class.db\")  # 資料庫連線(連線到class.db，該路徑上若不存在，則會自行建一個database)\n",
    "sql = '''Create table exam1_score(            \n",
    "        department text,\n",
    "        grade int,\n",
    "        id text,\n",
    "        name text,\n",
    "        gender text,\n",
    "        score int)'''\n",
    "conn.execute(sql)                             # 執行SQL指令，建立exam1_score table，並指明有哪些欄位變數\n",
    "conn.close()                                  # 關閉資料庫連線"
   ]
  },
  {
   "cell_type": "markdown",
   "metadata": {},
   "source": [
    "# 一次處理一筆的方式更新資料庫內的表單內容"
   ]
  },
  {
   "cell_type": "code",
   "execution_count": 3,
   "metadata": {},
   "outputs": [
    {
     "name": "stdout",
     "output_type": "stream",
     "text": [
      "請輸入class資料庫的exam1_score表單資料\n",
      "請輸入科系: 數學系\n",
      "請輸入年級: 3\n",
      "請輸入學號: 910201\n",
      "請輸入姓名: 馬小明\n",
      "請輸入性別(男/女): 男\n",
      "請輸入分數: 84\n",
      "繼續(y/n)?y\n",
      "請輸入科系: 數學系\n",
      "請輸入年級: 3\n",
      "請輸入學號: 910202\n",
      "請輸入姓名: 葉大雄\n",
      "請輸入性別(男/女): 男\n",
      "請輸入分數: 90\n",
      "繼續(y/n)?y\n",
      "請輸入科系: 數學系\n",
      "請輸入年級: 3\n",
      "請輸入學號: 910203\n",
      "請輸入姓名: 韓小瑩\n",
      "請輸入性別(男/女): 女\n",
      "請輸入分數: 58\n",
      "繼續(y/n)?y\n",
      "請輸入科系: 物理系\n",
      "請輸入年級: 4\n",
      "請輸入學號: 810216\n",
      "請輸入姓名: 張阿生\n",
      "請輸入性別(男/女): 男\n",
      "請輸入分數: 62\n",
      "繼續(y/n)?y\n",
      "請輸入科系: 數學系\n",
      "請輸入年級: 3\n",
      "請輸入學號: 910204\n",
      "請輸入姓名: 段阿朱\n",
      "請輸入性別(男/女): 女\n",
      "請輸入分數: 100\n",
      "繼續(y/n)?y\n",
      "請輸入科系: 數學系\n",
      "請輸入年級: 3\n",
      "請輸入學號: 910205\n",
      "請輸入姓名: 谷川夫\n",
      "請輸入性別(男/女): 男\n",
      "請輸入分數: 55\n",
      "繼續(y/n)?y\n",
      "請輸入科系: 數學系\n",
      "請輸入年級: 3\n",
      "請輸入學號: 910206\n",
      "請輸入姓名: 源靜香\n",
      "請輸入性別(男/女): 女\n",
      "請輸入分數: 96\n",
      "繼續(y/n)?y\n",
      "請輸入科系: 化學系\n",
      "請輸入年級: 4\n",
      "請輸入學號: 710124\n",
      "請輸入姓名: 武大郎\n",
      "請輸入性別(男/女): 男\n",
      "請輸入分數: 51\n",
      "繼續(y/n)?n\n"
     ]
    }
   ],
   "source": [
    "conn = sqlite3.connect(\"D:/SQLite/class.db\")  # 資料庫連線(連線到class.db，該路徑上若不存在，則會自行建一個database)\n",
    "print(\"請輸入class資料庫的exam1_score表單資料\")\n",
    "while True:\n",
    "    new_department = input(\"請輸入科系: \")\n",
    "    new_grade = int(input(\"請輸入年級: \"))\n",
    "    new_id = input(\"請輸入學號: \")\n",
    "    new_name = input(\"請輸入姓名: \")\n",
    "    new_gender = input(\"請輸入性別(男/女): \")\n",
    "    new_score = int(input(\"請輸入分數: \"))\n",
    "    # 將每筆紀錄處理成tuple，然後將SQL語法處理成字串，最後將tuple與字串當作execute()方法的參數\n",
    "    x = (new_department, new_grade, new_id, new_name, new_gender, new_score)\n",
    "    sql = '''insert into exam1_score values(?,?,?,?,?,?)'''  # ?個數隨欄位數量改變\n",
    "    conn.execute(sql, x)\n",
    "    conn.commit()                                            # 更新資料庫\n",
    "    again = input(\"繼續(y/n)?\")\n",
    "    if again.lower() == \"n\":\n",
    "        break\n",
    "conn.close()                                                 # 關閉資料庫連線"
   ]
  },
  {
   "cell_type": "markdown",
   "metadata": {},
   "source": [
    "# 查詢表單的SQL語法是SELECT，以下程式為查詢exam1_score表單的所有內容"
   ]
  },
  {
   "cell_type": "code",
   "execution_count": 4,
   "metadata": {},
   "outputs": [
    {
     "name": "stdout",
     "output_type": "stream",
     "text": [
      "1 科系--->數學系\n",
      "年級--->3\n",
      "學號--->910201\n",
      "姓名--->馬小明\n",
      "性別--->男\n",
      "分數--->84\n",
      "2 科系--->數學系\n",
      "年級--->3\n",
      "學號--->910202\n",
      "姓名--->葉大雄\n",
      "性別--->男\n",
      "分數--->90\n",
      "3 科系--->數學系\n",
      "年級--->3\n",
      "學號--->910203\n",
      "姓名--->韓小瑩\n",
      "性別--->女\n",
      "分數--->58\n",
      "4 科系--->物理系\n",
      "年級--->4\n",
      "學號--->810216\n",
      "姓名--->張阿生\n",
      "性別--->男\n",
      "分數--->62\n",
      "5 科系--->數學系\n",
      "年級--->3\n",
      "學號--->910204\n",
      "姓名--->段阿朱\n",
      "性別--->女\n",
      "分數--->100\n",
      "6 科系--->數學系\n",
      "年級--->3\n",
      "學號--->910205\n",
      "姓名--->谷川夫\n",
      "性別--->男\n",
      "分數--->55\n",
      "7 科系--->數學系\n",
      "年級--->3\n",
      "學號--->910206\n",
      "姓名--->源靜香\n",
      "性別--->女\n",
      "分數--->96\n",
      "8 科系--->化學系\n",
      "年級--->4\n",
      "學號--->710124\n",
      "姓名--->武大郎\n",
      "性別--->男\n",
      "分數--->51\n"
     ]
    }
   ],
   "source": [
    "conn = sqlite3.connect(\"D:/SQLite/class.db\")  # 資料庫連線(連線到class.db，該路徑上若不存在，則會自行建一個database)\n",
    "records = conn.execute(\"SELECT * from exam1_score\")\n",
    "for i, j in enumerate(records):\n",
    "    print(i + 1, \"科系--->%s\\n年級--->%d\\n學號--->%s\\n姓名--->%s\\n性別--->%s\\n分數--->%d\" % (j[0], j[1], j[2], j[3], j[4], j[5]))\n",
    "conn.close()                                  # 關閉資料庫連線"
   ]
  },
  {
   "cell_type": "markdown",
   "metadata": {},
   "source": [
    "# 以tuple型態的方式查詢exam1_score表單的所有內容"
   ]
  },
  {
   "cell_type": "code",
   "execution_count": 5,
   "metadata": {},
   "outputs": [
    {
     "name": "stdout",
     "output_type": "stream",
     "text": [
      "1 ('數學系', 3, '910201', '馬小明', '男', 84)\n",
      "2 ('數學系', 3, '910202', '葉大雄', '男', 90)\n",
      "3 ('數學系', 3, '910203', '韓小瑩', '女', 58)\n",
      "4 ('物理系', 4, '810216', '張阿生', '男', 62)\n",
      "5 ('數學系', 3, '910204', '段阿朱', '女', 100)\n",
      "6 ('數學系', 3, '910205', '谷川夫', '男', 55)\n",
      "7 ('數學系', 3, '910206', '源靜香', '女', 96)\n",
      "8 ('化學系', 4, '710124', '武大郎', '男', 51)\n"
     ]
    }
   ],
   "source": [
    "conn = sqlite3.connect(\"D:/SQLite/class.db\")  # 資料庫連線(連線到class.db，該路徑上若不存在，則會自行建一個database)\n",
    "records = conn.execute(\"SELECT * from exam1_score\")\n",
    "all_exam1_score = records.fetchall()          # 將選取出的結果轉成tuple\n",
    "for i, j in enumerate(all_exam1_score):\n",
    "    print(i + 1, j)\n",
    "conn.close()                                  # 關閉資料庫連線"
   ]
  },
  {
   "cell_type": "markdown",
   "metadata": {},
   "source": [
    "# 只想列出部分欄位資料，使用SELECT時，可以直接列出欄位名稱取代\"*\""
   ]
  },
  {
   "cell_type": "code",
   "execution_count": 6,
   "metadata": {},
   "outputs": [
    {
     "name": "stdout",
     "output_type": "stream",
     "text": [
      "1 ('馬小明',)\n",
      "2 ('葉大雄',)\n",
      "3 ('韓小瑩',)\n",
      "4 ('張阿生',)\n",
      "5 ('段阿朱',)\n",
      "6 ('谷川夫',)\n",
      "7 ('源靜香',)\n",
      "8 ('武大郎',)\n"
     ]
    }
   ],
   "source": [
    "conn = sqlite3.connect(\"D:/SQLite/class.db\")  # 資料庫連線(連線到class.db，該路徑上若不存在，則會自行建一個database)\n",
    "records = conn.execute(\"SELECT name from exam1_score\")\n",
    "all_exam1_score = records.fetchall()          # 將選取出的結果轉成tuple\n",
    "for i, j in enumerate(all_exam1_score):\n",
    "    print(i + 1, j)\n",
    "conn.close()                                  # 關閉資料庫連線"
   ]
  },
  {
   "cell_type": "markdown",
   "metadata": {},
   "source": [
    "# 只想列出部分欄位資料，使用SELECT時，可以直接列出欄位名稱取代\"*\""
   ]
  },
  {
   "cell_type": "code",
   "execution_count": 7,
   "metadata": {},
   "outputs": [
    {
     "name": "stdout",
     "output_type": "stream",
     "text": [
      "1 ('馬小明', '男', 84)\n",
      "2 ('葉大雄', '男', 90)\n",
      "3 ('韓小瑩', '女', 58)\n",
      "4 ('張阿生', '男', 62)\n",
      "5 ('段阿朱', '女', 100)\n",
      "6 ('谷川夫', '男', 55)\n",
      "7 ('源靜香', '女', 96)\n",
      "8 ('武大郎', '男', 51)\n"
     ]
    }
   ],
   "source": [
    "conn = sqlite3.connect(\"D:/SQLite/class.db\")  # 資料庫連線(連線到class.db，該路徑上若不存在，則會自行建一個database)\n",
    "records = conn.execute(\"SELECT name, gender, score from exam1_score\")\n",
    "all_exam1_score = records.fetchall()          # 將選取出的結果轉成tuple\n",
    "for i, j in enumerate(all_exam1_score):\n",
    "    print(i + 1, j)\n",
    "conn.close()                                  # 關閉資料庫連線"
   ]
  },
  {
   "cell_type": "markdown",
   "metadata": {},
   "source": [
    "# 想要查詢符合篩選條件的表單內容，SQL語法如下，SELECT... from... where..."
   ]
  },
  {
   "cell_type": "code",
   "execution_count": 8,
   "metadata": {},
   "outputs": [
    {
     "name": "stdout",
     "output_type": "stream",
     "text": [
      "不及格同學的部分資訊:\n",
      "1 ('韓小瑩', '女')\n",
      "2 ('谷川夫', '男')\n",
      "3 ('武大郎', '男')\n"
     ]
    }
   ],
   "source": [
    "conn = sqlite3.connect(\"D:/SQLite/class.db\")  # 資料庫連線(連線到class.db，該路徑上若不存在，則會自行建一個database)\n",
    "sql = '''SELECT name, gender\n",
    "        from exam1_score\n",
    "        where score < 60'''\n",
    "records = conn.execute(sql)\n",
    "record = records.fetchall()                   # 將選取出的結果轉成tuple\n",
    "print('不及格同學的部分資訊:')\n",
    "for i, j in enumerate(record):\n",
    "    print(i + 1, j)\n",
    "conn.close()                                  # 關閉資料庫連線"
   ]
  },
  {
   "cell_type": "markdown",
   "metadata": {},
   "source": [
    "# 更新現有的表單內容，SQL語法如下，UPDATE 表單名稱 set 欄位 新內容 where 標明哪一筆資料，完成後務必記得commit()更新資料庫"
   ]
  },
  {
   "cell_type": "code",
   "execution_count": 9,
   "metadata": {},
   "outputs": [
    {
     "name": "stdout",
     "output_type": "stream",
     "text": [
      "1 ('數學系', 3, '910201', '馬小明', '男', 84)\n",
      "2 ('數學系', 3, '910202', '葉大雄', '男', 90)\n",
      "3 ('生物系', 3, '910203', '韓小瑩', '女', 58)\n",
      "4 ('物理系', 4, '810216', '張阿生', '男', 62)\n",
      "5 ('數學系', 3, '910204', '段阿朱', '女', 100)\n",
      "6 ('數學系', 3, '910205', '谷川夫', '男', 55)\n",
      "7 ('數學系', 3, '910206', '源靜香', '女', 96)\n",
      "8 ('化學系', 4, '710124', '武大郎', '男', 51)\n"
     ]
    }
   ],
   "source": [
    "conn = sqlite3.connect(\"D:/SQLite/class.db\")          # 資料庫連線(連線到class.db，該路徑上若不存在，則會自行建一個database)\n",
    "sql = '''UPDATE exam1_score\n",
    "        set  department = \"生物系\"\n",
    "        where name = \"韓小瑩\"'''\n",
    "records = conn.execute(sql)\n",
    "conn.commit()                                         # 更新資料庫\n",
    "records = conn.execute(\"SELECT * from exam1_score\")\n",
    "all_exam1_score = records.fetchall()                  # 將選取出的結果轉成tuple\n",
    "for i, j in enumerate(all_exam1_score):\n",
    "    print(i + 1, j)\n",
    "conn.close()                                          # 關閉資料庫連線"
   ]
  },
  {
   "cell_type": "markdown",
   "metadata": {},
   "source": [
    "# 根據現有的表單內容，設定篩選條件，刪除某筆資料，SQL語法如下 DELETE from 表單名稱 where 標明哪一筆資料"
   ]
  },
  {
   "cell_type": "code",
   "execution_count": 10,
   "metadata": {},
   "outputs": [
    {
     "name": "stdout",
     "output_type": "stream",
     "text": [
      "1 ('數學系', 3, '910201', '馬小明', '男', 84)\n",
      "2 ('生物系', 3, '910203', '韓小瑩', '女', 58)\n",
      "3 ('物理系', 4, '810216', '張阿生', '男', 62)\n",
      "4 ('數學系', 3, '910204', '段阿朱', '女', 100)\n",
      "5 ('數學系', 3, '910205', '谷川夫', '男', 55)\n",
      "6 ('數學系', 3, '910206', '源靜香', '女', 96)\n",
      "7 ('化學系', 4, '710124', '武大郎', '男', 51)\n"
     ]
    }
   ],
   "source": [
    "conn = sqlite3.connect(\"D:/SQLite/class.db\")          # 資料庫連線(連線到class.db，該路徑上若不存在，則會自行建一個database)\n",
    "# sql 是字串，如果要刪除的id以變數儲存，處理方式應如下\n",
    "# sql = '''DELETE from exam1_score where id = {}'''.format(id的變數名稱)\n",
    "sql = '''DELETE\n",
    "    from exam1_score\n",
    "    where id = 910202'''\n",
    "records = conn.execute(sql)\n",
    "conn.commit()                                         # 更新資料庫\n",
    "records = conn.execute(\"SELECT * from exam1_score\")\n",
    "all_exam1_score = records.fetchall()                  # 將選取出的結果轉成tuple\n",
    "for i, j in enumerate(all_exam1_score):\n",
    "    print(i + 1, j)\n",
    "conn.close()                                          # 關閉資料庫連線"
   ]
  }
 ],
 "metadata": {
  "kernelspec": {
   "display_name": "Python 3",
   "language": "python",
   "name": "python3"
  },
  "language_info": {
   "codemirror_mode": {
    "name": "ipython",
    "version": 3
   },
   "file_extension": ".py",
   "mimetype": "text/x-python",
   "name": "python",
   "nbconvert_exporter": "python",
   "pygments_lexer": "ipython3",
   "version": "3.7.5"
  }
 },
 "nbformat": 4,
 "nbformat_minor": 2
}
